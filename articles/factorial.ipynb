{
 "cells": [
  {
   "cell_type": "markdown",
   "metadata": {},
   "source": [
    "## Factorial\n",
    "\n",
    "The act of multiplying numbers in successive order. \n",
    "\n",
    "### Why would you do such a thing? \n",
    "\n",
    "This operation comes up very often in counting outcomes which can help you estimate probabilities of something happening.\n",
    "\n",
    "For example, how many different orders will I get if I pull all 52 cards in a deck?\n",
    "\n",
    "Well first I can expect any 52 of the cards, and next pull there are 51 cards left, and so on\n",
    "\n",
    "$$52 \\times 51 \\times 50 \\times \\dots \\times 1 = $$"
   ]
  },
  {
   "cell_type": "code",
   "execution_count": 1,
   "metadata": {},
   "outputs": [
    {
     "data": {
      "text/plain": [
       "80658175170943878571660636856403766975289505440883277824000000000000"
      ]
     },
     "execution_count": 1,
     "metadata": {},
     "output_type": "execute_result"
    }
   ],
   "source": [
    "52*51*50*49*48*47*46*45*44*43*42*41*40*39*38*37*36*35*34*33*32*31*30*29*28*27*26*25*24*23*22*21*20*19*18*17*16*15*14*13*12*11*10*9*8*7*6*5*4*3*2*1"
   ]
  },
  {
   "cell_type": "markdown",
   "metadata": {},
   "source": [
    "### How do you compute it?\n",
    "\n",
    "For example, factorial of 5 is 1 times 2 times 3 times 4 times 5 which totals to 120."
   ]
  },
  {
   "cell_type": "code",
   "execution_count": 2,
   "metadata": {},
   "outputs": [
    {
     "data": {
      "text/plain": [
       "120"
      ]
     },
     "execution_count": 2,
     "metadata": {},
     "output_type": "execute_result"
    }
   ],
   "source": [
    "1*2*3*4*5"
   ]
  },
  {
   "cell_type": "markdown",
   "metadata": {},
   "source": [
    "Generally speaking, this is the same as $5 \\cdot \\text{factorial}(4)$ and $\\text{factorial}(4)$ is just $4\\cdot\\text{factorial}(3)$ and so on. So we can recursively call factorial for example:\n",
    "\n",
    "$5 \\cdot \\text{factorial}(4)$ -> \n",
    "\n",
    "$5 \\cdot [4 \\cdot \\text{factorial}(3)]$ -> \n",
    "\n",
    "$5 \\cdot [4 \\cdot [3 \\cdot \\text{factorial}(2)]]$ -> \n",
    "\n",
    "$5 \\cdot [4 \\cdot [3 \\cdot [2 \\cdot \\text{factorial}(1)]]]$ -> \n",
    "\n",
    "$5 \\cdot 4 \\cdot 3 \\cdot 2 \\cdot 1 = 120$\n",
    "\n",
    "Like"
   ]
  },
  {
   "cell_type": "code",
   "execution_count": 3,
   "metadata": {},
   "outputs": [
    {
     "name": "stdout",
     "output_type": "stream",
     "text": [
      "factorial(3)=6\n",
      "factorial(5)=120\n",
      "factorial(7)=5040\n"
     ]
    }
   ],
   "source": [
    "def factorial(n):\n",
    "\treturn 1 if n<=1 else n*factorial(n-1)\n",
    "\n",
    "print(f\"{factorial(3)=}\")\n",
    "print(f\"{factorial(5)=}\")\n",
    "print(f\"{factorial(7)=}\")"
   ]
  },
  {
   "cell_type": "markdown",
   "metadata": {},
   "source": [
    "Alternatively, you can just iteratively compute factorials by multiplying the list of increasing numbers"
   ]
  },
  {
   "cell_type": "code",
   "execution_count": 4,
   "metadata": {},
   "outputs": [
    {
     "name": "stdout",
     "output_type": "stream",
     "text": [
      "factorial_builtin(3)=6\n",
      "factorial_builtin(5)=120\n",
      "factorial_builtin(7)=5040\n"
     ]
    }
   ],
   "source": [
    "def factorial_builtin(n):\n",
    "\tres = 1\n",
    "\tfor i in range(1, n+1):\n",
    "\t\tres *= i\n",
    "\treturn res\n",
    "\n",
    "print(f\"{factorial_builtin(3)=}\")\n",
    "print(f\"{factorial_builtin(5)=}\")\n",
    "print(f\"{factorial_builtin(7)=}\")"
   ]
  },
  {
   "cell_type": "markdown",
   "metadata": {},
   "source": [
    "Even more concisely as "
   ]
  },
  {
   "cell_type": "code",
   "execution_count": 5,
   "metadata": {},
   "outputs": [
    {
     "data": {
      "text/plain": [
       "120"
      ]
     },
     "execution_count": 5,
     "metadata": {},
     "output_type": "execute_result"
    }
   ],
   "source": [
    "import math\n",
    "factorial_concise = lambda n: math.prod(range(1,n+1))\n",
    "factorial_concise(5)"
   ]
  },
  {
   "cell_type": "markdown",
   "metadata": {},
   "source": [
    "Or if you need to computes many factorials, you might consider caching the intermediate results"
   ]
  },
  {
   "cell_type": "code",
   "execution_count": 6,
   "metadata": {},
   "outputs": [
    {
     "name": "stdout",
     "output_type": "stream",
     "text": [
      "factorial_cached(3)=6\n",
      "factorial_cached(5)=120\n",
      "factorial_cached(7)=5040\n"
     ]
    }
   ],
   "source": [
    "def gen_factorial_cached():\n",
    "\tcache = {}\n",
    "\tdef factorial(n):\n",
    "\t\tif n not in cache:\n",
    "\t\t\tcache[n] = 1 if n<=1 else n*factorial(n-1)\n",
    "\t\treturn cache[n]\n",
    "\treturn factorial\n",
    "\n",
    "factorial_cached = gen_factorial_cached()\n",
    "\n",
    "print(f\"{factorial_cached(3)=}\")\n",
    "print(f\"{factorial_cached(5)=}\")\n",
    "print(f\"{factorial_cached(7)=}\")"
   ]
  },
  {
   "cell_type": "markdown",
   "metadata": {},
   "source": [
    "Or you the built in `functools` library"
   ]
  },
  {
   "cell_type": "code",
   "execution_count": 7,
   "metadata": {},
   "outputs": [
    {
     "name": "stdout",
     "output_type": "stream",
     "text": [
      "factorial_functools_cached(3)=6\n",
      "factorial_functools_cached(5)=120\n",
      "factorial_functools_cached(7)=5040\n"
     ]
    }
   ],
   "source": [
    "import functools\n",
    "\n",
    "@functools.lru_cache(maxsize=128)\n",
    "def factorial_functools_cached(n):\n",
    "\treturn 1 if n<=1 else n*factorial_functools_cached(n-1)\n",
    "\n",
    "print(f\"{factorial_functools_cached(3)=}\")\n",
    "print(f\"{factorial_functools_cached(5)=}\")\n",
    "print(f\"{factorial_functools_cached(7)=}\")"
   ]
  },
  {
   "cell_type": "markdown",
   "metadata": {},
   "source": [
    "### What about large numbers?\n",
    "\n",
    "Computing factorial for very large numbers gets terrible quickly.\n",
    "\n",
    "For example factorial of 100 requires many large multiplications -> 100 * 99 * 98 ... which very quickly gets massive"
   ]
  },
  {
   "cell_type": "code",
   "execution_count": 8,
   "metadata": {},
   "outputs": [
    {
     "data": {
      "text/plain": [
       "93326215443944152681699238856266700490715968264381621468592963895217599993229915608941463976156518286253697920827223758251185210916864000000000000000000000000"
      ]
     },
     "execution_count": 8,
     "metadata": {},
     "output_type": "execute_result"
    }
   ],
   "source": [
    "factorial(100)"
   ]
  },
  {
   "cell_type": "code",
   "execution_count": 9,
   "metadata": {},
   "outputs": [
    {
     "data": {
      "text/plain": [
       "<matplotlib.legend.Legend at 0x10fb4ca60>"
      ]
     },
     "execution_count": 9,
     "metadata": {},
     "output_type": "execute_result"
    },
    {
     "data": {
      "image/png": "[encoded data removed]",
      "text/plain": [
       "<Figure size 640x480 with 1 Axes>"
      ]
     },
     "metadata": {},
     "output_type": "display_data"
    }
   ],
   "source": [
    "import matplotlib.pyplot as plt\n",
    "\n",
    "xs = range(30)\n",
    "plt.plot(xs, [factorial(x) for x in xs], label=\"factorial(x)\")\n",
    "plt.plot(xs, [x**2 for x in xs], label=\"$x^2$\")\n",
    "plt.legend()"
   ]
  },
  {
   "cell_type": "markdown",
   "metadata": {},
   "source": [
    "SO for large numbers you probably want to find the number precomputed, use symbolic languages, or use [approximations](https://www.wikiwand.com/en/articles/Stirling%27s_approximation)."
   ]
  }
 ],
 "metadata": {
  "kernelspec": {
   "display_name": "Python 3",
   "language": "python",
   "name": "python3"
  },
  "language_info": {
   "codemirror_mode": {
    "name": "ipython",
    "version": 3
   },
   "file_extension": ".py",
   "mimetype": "text/x-python",
   "name": "python",
   "nbconvert_exporter": "python",
   "pygments_lexer": "ipython3",
   "version": "3.10.14"
  }
 },
 "nbformat": 4,
 "nbformat_minor": 2
}
