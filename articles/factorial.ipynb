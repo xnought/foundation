{
 "cells": [
  {
   "cell_type": "markdown",
   "metadata": {},
   "source": [
    "## Factorial\n",
    "\n",
    "The act of multiplying numbers in successive order. \n",
    "\n",
    "For example, factorial of 5 is 1 times 2 times 3 times 4 times 5 which totals to 120."
   ]
  },
  {
   "cell_type": "code",
   "execution_count": 1,
   "metadata": {},
   "outputs": [
    {
     "data": {
      "text/plain": [
       "120"
      ]
     },
     "execution_count": 1,
     "metadata": {},
     "output_type": "execute_result"
    }
   ],
   "source": [
    "1*2*3*4*5"
   ]
  },
  {
   "cell_type": "markdown",
   "metadata": {},
   "source": [
    "Generally speaking, this is the same as $5 \\cdot \\text{factorial}(4)$ and $\\text{factorial}(4)$ is just $4\\cdot\\text{factorial}(3)$ and so on. So we can recursively call factorial for example:\n",
    "\n",
    "$5 \\cdot \\text{factorial}(4)$ -> \n",
    "\n",
    "$5 \\cdot [4 \\cdot \\text{factorial}(3)]$ -> \n",
    "\n",
    "$5 \\cdot [4 \\cdot [3 \\cdot \\text{factorial}(2)]]$ -> \n",
    "\n",
    "$5 \\cdot [4 \\cdot [3 \\cdot [2 \\cdot \\text{factorial}(1)]]]$ -> \n",
    "\n",
    "$5 \\cdot 4 \\cdot 3 \\cdot 2 \\cdot 1 = 120$\n",
    "\n",
    "Like"
   ]
  },
  {
   "cell_type": "code",
   "execution_count": 26,
   "metadata": {},
   "outputs": [
    {
     "name": "stdout",
     "output_type": "stream",
     "text": [
      "factorial(3)=6\n",
      "factorial(5)=120\n",
      "factorial(7)=5040\n"
     ]
    }
   ],
   "source": [
    "def factorial(n):\n",
    "\treturn 1 if n<= 1 else n*factorial(n-1)\n",
    "\n",
    "print(f\"{factorial(3)=}\")\n",
    "print(f\"{factorial(5)=}\")\n",
    "print(f\"{factorial(7)=}\")"
   ]
  },
  {
   "cell_type": "markdown",
   "metadata": {},
   "source": [
    "Alternatively, you can just iteratively compute factorials by multiplying the list of increasing numbers"
   ]
  },
  {
   "cell_type": "code",
   "execution_count": 22,
   "metadata": {},
   "outputs": [
    {
     "name": "stdout",
     "output_type": "stream",
     "text": [
      "factorial_builtin(3)=6\n",
      "factorial_builtin(5)=120\n",
      "factorial_builtin(7)=5040\n"
     ]
    }
   ],
   "source": [
    "def factorial_builtin(n):\n",
    "\tres = 1\n",
    "\tfor i in range(1, n+1):\n",
    "\t\tres *= i\n",
    "\treturn res\n",
    "\n",
    "print(f\"{factorial_builtin(3)=}\")\n",
    "print(f\"{factorial_builtin(5)=}\")\n",
    "print(f\"{factorial_builtin(7)=}\")"
   ]
  },
  {
   "cell_type": "markdown",
   "metadata": {},
   "source": [
    "Even more concisely as "
   ]
  },
  {
   "cell_type": "code",
   "execution_count": 23,
   "metadata": {},
   "outputs": [
    {
     "data": {
      "text/plain": [
       "120"
      ]
     },
     "execution_count": 23,
     "metadata": {},
     "output_type": "execute_result"
    }
   ],
   "source": [
    "import math\n",
    "factorial_concise = lambda n: math.prod(range(1,n+1))\n",
    "factorial_concise(5)"
   ]
  },
  {
   "cell_type": "markdown",
   "metadata": {},
   "source": [
    "Or if you need to computes many factorials, you might consider caching the intermediate results"
   ]
  },
  {
   "cell_type": "code",
   "execution_count": 25,
   "metadata": {},
   "outputs": [
    {
     "name": "stdout",
     "output_type": "stream",
     "text": [
      "factorial_cached(3)=6\n",
      "factorial_cached(5)=120\n",
      "factorial_cached(7)=5040\n"
     ]
    }
   ],
   "source": [
    "def gen_factorial_cached():\n",
    "\tcache = {}\n",
    "\tdef factorial(n):\n",
    "\t\tif n not in cache:\n",
    "\t\t\tcache[n] = 1 if n<= 1 else n*factorial(n-1)\n",
    "\t\treturn cache[n]\n",
    "\treturn factorial\n",
    "\n",
    "factorial_cached = gen_factorial_cached()\n",
    "\n",
    "print(f\"{factorial_cached(3)=}\")\n",
    "print(f\"{factorial_cached(5)=}\")\n",
    "print(f\"{factorial_cached(7)=}\")"
   ]
  },
  {
   "cell_type": "markdown",
   "metadata": {},
   "source": [
    "Or you the built in `functools` library"
   ]
  },
  {
   "cell_type": "code",
   "execution_count": 29,
   "metadata": {},
   "outputs": [
    {
     "name": "stdout",
     "output_type": "stream",
     "text": [
      "factorial_functools_cached(3)=6\n",
      "factorial_functools_cached(5)=120\n",
      "factorial_functools_cached(7)=5040\n"
     ]
    }
   ],
   "source": [
    "import functools\n",
    "\n",
    "@functools.lru_cache(maxsize=128)\n",
    "def factorial_functools_cached(n):\n",
    "\treturn 1 if n<= 1 else n*factorial(n-1)\n",
    "\n",
    "print(f\"{factorial_functools_cached(3)=}\")\n",
    "print(f\"{factorial_functools_cached(5)=}\")\n",
    "print(f\"{factorial_functools_cached(7)=}\")"
   ]
  }
 ],
 "metadata": {
  "kernelspec": {
   "display_name": "Python 3",
   "language": "python",
   "name": "python3"
  },
  "language_info": {
   "codemirror_mode": {
    "name": "ipython",
    "version": 3
   },
   "file_extension": ".py",
   "mimetype": "text/x-python",
   "name": "python",
   "nbconvert_exporter": "python",
   "pygments_lexer": "ipython3",
   "version": "3.10.14"
  }
 },
 "nbformat": 4,
 "nbformat_minor": 2
}
