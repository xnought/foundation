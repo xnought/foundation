{
 "cells": [
  {
   "cell_type": "markdown",
   "metadata": {},
   "source": [
    "## Hamming Codes\n",
    "\n",
    "Here I'll go through sending a small bit string and what we can add to it to verify and correct errors."
   ]
  },
  {
   "cell_type": "code",
   "execution_count": 1,
   "metadata": {},
   "outputs": [],
   "source": [
    "bits = [1,0,1,0]"
   ]
  },
  {
   "cell_type": "code",
   "execution_count": 8,
   "metadata": {},
   "outputs": [
    {
     "name": "stdout",
     "output_type": "stream",
     "text": [
      "bits=[1, 0, 1, 0]\n",
      "received=[1, 1, 1, 0]\n"
     ]
    }
   ],
   "source": [
    "# if an error happens to a bit when it is sent, how can I detect?\n",
    "def send_bits(bits, flip_bit_at=0):\n",
    "\tcpy = [b for b in bits]\n",
    "\tcpy[flip_bit_at] = int(not cpy[flip_bit_at]) # error\n",
    "\treturn cpy\n",
    "\n",
    "received = send_bits(bits, flip_bit_at=1)\n",
    "\n",
    "print(f\"{bits=}\")\n",
    "print(f\"{received=}\")"
   ]
  },
  {
   "cell_type": "markdown",
   "metadata": {},
   "source": [
    "The answer is with error correcting codes. What extra bits can I send so that they can verify the answer is correct?\n",
    "\n",
    "### Parity\n",
    "\n",
    "One way to see if something is wrong is to assume that a parity bit was sent correctly. For example we can represent encode \n",
    "if there was an even number of `1`s in the input.\n",
    "\n",
    "So `1010` would have parity `1` since it does indeed have an even number of `1`s. On the other hand `0001` would have a parity of `0`.\n",
    "\n",
    "So when this get sent, and for example `1010` has a parity of `0` from the sender, then I know something was transmitted incorrectly and I can request the sender to resend the data. Something went wrong!"
   ]
  },
  {
   "cell_type": "code",
   "execution_count": 13,
   "metadata": {},
   "outputs": [],
   "source": [
    "def compute_parity(bits):\n",
    "\treturn int(sum(bits) & 1 == 0)"
   ]
  },
  {
   "cell_type": "code",
   "execution_count": 14,
   "metadata": {},
   "outputs": [
    {
     "data": {
      "text/plain": [
       "1"
      ]
     },
     "execution_count": 14,
     "metadata": {},
     "output_type": "execute_result"
    }
   ],
   "source": [
    "compute_parity(bits)"
   ]
  },
  {
   "cell_type": "code",
   "execution_count": 16,
   "metadata": {},
   "outputs": [
    {
     "data": {
      "text/plain": [
       "[1, 0, 1, 0, 1]"
      ]
     },
     "execution_count": 16,
     "metadata": {},
     "output_type": "execute_result"
    }
   ],
   "source": [
    "bits_with_parity = [*bits, compute_parity(bits)]\n",
    "bits_with_parity"
   ]
  },
  {
   "cell_type": "code",
   "execution_count": 27,
   "metadata": {},
   "outputs": [
    {
     "name": "stdout",
     "output_type": "stream",
     "text": [
      "sent=[1, 0, 1, 0], parity=1\n",
      "received=[1, 1, 1, 0], parity=1, computed_parity=0\n"
     ]
    }
   ],
   "source": [
    "[*received, parity_bit] = send_bits(bits_with_parity, flip_bit_at=1)\n",
    "print(f\"sent={bits_with_parity[:-1]}, parity={bits_with_parity[-1]}\")\n",
    "print(f\"{received=}, parity={parity_bit}, computed_parity={compute_parity(received)}\")"
   ]
  },
  {
   "cell_type": "markdown",
   "metadata": {},
   "source": [
    "Since I received parity of 1, but the computed parity is actually 0, I know that something is not right in the input. We have a 1 bit error.\n",
    "\n",
    "Note that if we had a 2 bit error, the parity might be correct and we might be suckered into thinking that we are all good. So we will address 2 bit errors later on. But generally speaking about intuition, probably changing the parity function and adding extra bits will go into helping us out."
   ]
  },
  {
   "cell_type": "markdown",
   "metadata": {},
   "source": [
    "### Correcting a bit error\n",
    "\n",
    "Can we extend parity to identify a bit error?  "
   ]
  },
  {
   "cell_type": "code",
   "execution_count": null,
   "metadata": {},
   "outputs": [],
   "source": []
  }
 ],
 "metadata": {
  "kernelspec": {
   "display_name": "Python 3",
   "language": "python",
   "name": "python3"
  },
  "language_info": {
   "codemirror_mode": {
    "name": "ipython",
    "version": 3
   },
   "file_extension": ".py",
   "mimetype": "text/x-python",
   "name": "python",
   "nbconvert_exporter": "python",
   "pygments_lexer": "ipython3",
   "version": "3.10.14"
  }
 },
 "nbformat": 4,
 "nbformat_minor": 2
}
