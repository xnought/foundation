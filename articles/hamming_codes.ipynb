{
 "cells": [
  {
   "cell_type": "code",
   "execution_count": 11,
   "metadata": {},
   "outputs": [],
   "source": [
    "bits = [1,0,1,0]"
   ]
  },
  {
   "cell_type": "code",
   "execution_count": 18,
   "metadata": {},
   "outputs": [
    {
     "name": "stdout",
     "output_type": "stream",
     "text": [
      "bits=[1, 0, 1, 0]\n",
      "received=[1, 1, 1, 0]\n"
     ]
    }
   ],
   "source": [
    "# if an error happens to a bit when it is sent, how can I detect?\n",
    "def send_bits(bits, flip_bit_at=0):\n",
    "\tcpy = [b for b in bits]\n",
    "\tcpy[flip_bit_at] = int(not cpy[flip_bit_at]) # error\n",
    "\treturn cpy\n",
    "\n",
    "received = send_bits(bits, flip_bit_at=1)\n",
    "\n",
    "print(f\"{bits=}\")\n",
    "print(f\"{received=}\")"
   ]
  },
  {
   "cell_type": "markdown",
   "metadata": {},
   "source": [
    "The answer is with Hamming Codes. I can use parity bits in a clever way to detect where the error is and flip it!\n",
    "\n",
    "Example:"
   ]
  },
  {
   "cell_type": "markdown",
   "metadata": {},
   "source": []
  }
 ],
 "metadata": {
  "kernelspec": {
   "display_name": "Python 3",
   "language": "python",
   "name": "python3"
  },
  "language_info": {
   "codemirror_mode": {
    "name": "ipython",
    "version": 3
   },
   "file_extension": ".py",
   "mimetype": "text/x-python",
   "name": "python",
   "nbconvert_exporter": "python",
   "pygments_lexer": "ipython3",
   "version": "3.10.14"
  }
 },
 "nbformat": 4,
 "nbformat_minor": 2
}
