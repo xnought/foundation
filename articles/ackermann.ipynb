{
 "cells": [
  {
   "cell_type": "markdown",
   "metadata": {},
   "source": [
    "## Ackermann\n",
    "\n",
    "A function that grows super fast is $x!$ and $x^x$ even faster. The [Ackermann function](https://www.wikiwand.com/en/articles/Ackermann_function) $A(x)$ grows even faster!\n",
    "\n",
    "The actual definition is a more complicated than necessary, so I'll just look at a function that does repeated operations of the previous.\n",
    "\n",
    "I want to return an operation based on the function,\n",
    "\n",
    "Let's say f is addtion. I can add with f(1,1)=2.\n",
    "\n",
    "Then to do multiplication, I can repeat f. For example, 2*3\n",
    "\n",
    "Is just f(2, f(2, 2)) we can call this function b times with the number a inside each other argument if a*b to make a function g(a,b) which multiplies.\n",
    "\n",
    "Then I can repeat multiplication as a power called p(a,b) or $a^b$ as the same thing for example $2^3$ as g(2, g(2,2)) which is just repeated mutilations to created that p(a,b) function.\n",
    "\n",
    "I can continue to do this and invent function that don't even exist!\n",
    "\n"
   ]
  },
  {
   "cell_type": "code",
   "execution_count": 1,
   "metadata": {},
   "outputs": [],
   "source": [
    "import sys\n",
    "sys.setrecursionlimit(100_000)\n",
    "\n",
    "\n",
    "def repeat(a,b,func):\n",
    "\tif b == 1:\n",
    "\t\treturn a\n",
    "\treturn func(a, repeat(a, b-1, func))\n",
    "\n",
    "def add(a,b):\n",
    "\treturn a+b\n",
    "\n",
    "def multiply(a,b):\n",
    "\treturn repeat(a,b,add)\n",
    "\n",
    "def power(a,b):\n",
    "\treturn repeat(a,b,multiply)\n",
    "\n",
    "def tetration(a,b):\n",
    "\treturn repeat(a,b,power)"
   ]
  },
  {
   "cell_type": "markdown",
   "metadata": {},
   "source": [
    "Or I can simply define a recursive function on top of the repeats. For example, I could have defined power only by repeat and adds"
   ]
  },
  {
   "cell_type": "code",
   "execution_count": 2,
   "metadata": {},
   "outputs": [
    {
     "data": {
      "text/plain": [
       "8"
      ]
     },
     "execution_count": 2,
     "metadata": {},
     "output_type": "execute_result"
    }
   ],
   "source": [
    "_power = lambda a, b: repeat(a,b, \n",
    "\t\t\tlambda a,b: repeat(a,b, \n",
    "\t\t\t\t\t\t\t\tadd))\n",
    "_power(2,3)"
   ]
  },
  {
   "cell_type": "markdown",
   "metadata": {},
   "source": [
    "or tetration as only repeats and add"
   ]
  },
  {
   "cell_type": "code",
   "execution_count": 3,
   "metadata": {},
   "outputs": [
    {
     "data": {
      "text/plain": [
       "1"
      ]
     },
     "execution_count": 3,
     "metadata": {},
     "output_type": "execute_result"
    }
   ],
   "source": [
    "_tetration = lambda a,b: repeat(a,b,\n",
    "\t\t\t\tlambda a,b: repeat(a,b,\n",
    "\t\t\t\t\tlambda a,b: repeat(a,b,add)))\n",
    "_tetration(1,2)"
   ]
  },
  {
   "cell_type": "markdown",
   "metadata": {},
   "source": [
    "So I can define a function that recurs the number of times I want to apply the repeat function for given a and b."
   ]
  },
  {
   "cell_type": "code",
   "execution_count": 4,
   "metadata": {},
   "outputs": [
    {
     "data": {
      "text/plain": [
       "5"
      ]
     },
     "execution_count": 4,
     "metadata": {},
     "output_type": "execute_result"
    }
   ],
   "source": [
    "def recur_repeat(n_repeats):\n",
    "\tif n_repeats == 0:\n",
    "\t\treturn add\n",
    "\telse:\n",
    "\t\treturn lambda a,b: repeat(a,b, recur_repeat(n_repeats-1))\n",
    "\n",
    "\n",
    "_add = recur_repeat(0)\n",
    "_add(2,3)"
   ]
  },
  {
   "cell_type": "code",
   "execution_count": 5,
   "metadata": {},
   "outputs": [
    {
     "data": {
      "text/plain": [
       "6"
      ]
     },
     "execution_count": 5,
     "metadata": {},
     "output_type": "execute_result"
    }
   ],
   "source": [
    "_mult = recur_repeat(1)\n",
    "_mult(2,3)"
   ]
  },
  {
   "cell_type": "code",
   "execution_count": 6,
   "metadata": {},
   "outputs": [
    {
     "data": {
      "text/plain": [
       "8"
      ]
     },
     "execution_count": 6,
     "metadata": {},
     "output_type": "execute_result"
    }
   ],
   "source": [
    "_pow = recur_repeat(2)\n",
    "_pow(2,3)"
   ]
  },
  {
   "cell_type": "code",
   "execution_count": 7,
   "metadata": {},
   "outputs": [
    {
     "data": {
      "text/plain": [
       "16"
      ]
     },
     "execution_count": 7,
     "metadata": {},
     "output_type": "execute_result"
    }
   ],
   "source": [
    "_tetrate = recur_repeat(3)\n",
    "_tetrate(2,3)"
   ]
  },
  {
   "cell_type": "code",
   "execution_count": null,
   "metadata": {},
   "outputs": [
    {
     "ename": "",
     "evalue": "",
     "output_type": "error",
     "traceback": [
      "\u001b[1;31mThe Kernel crashed while executing code in the current cell or a previous cell. \n",
      "\u001b[1;31mPlease review the code in the cell(s) to identify a possible cause of the failure. \n",
      "\u001b[1;31mClick <a href='https://aka.ms/vscodeJupyterKernelCrash'>here</a> for more info. \n",
      "\u001b[1;31mView Jupyter <a href='command:jupyter.viewOutput'>log</a> for further details."
     ]
    }
   ],
   "source": [
    "recur_repeat(4)(2,3)"
   ]
  },
  {
   "cell_type": "markdown",
   "metadata": {},
   "source": [
    "Even going past tetration, python can't handle how many times we have to recur and the number is likely way too big to fit into memory.\n",
    "\n",
    "But just to finish things off, I can define something like the Ackermann function using my recursive repeating of adding"
   ]
  },
  {
   "cell_type": "code",
   "execution_count": 7,
   "metadata": {},
   "outputs": [
    {
     "ename": "",
     "evalue": "",
     "output_type": "error",
     "traceback": [
      "\u001b[1;31mThe Kernel crashed while executing code in the current cell or a previous cell. \n",
      "\u001b[1;31mPlease review the code in the cell(s) to identify a possible cause of the failure. \n",
      "\u001b[1;31mClick <a href='https://aka.ms/vscodeJupyterKernelCrash'>here</a> for more info. \n",
      "\u001b[1;31mView Jupyter <a href='command:jupyter.viewOutput'>log</a> for further details."
     ]
    }
   ],
   "source": [
    "def A(x):\n",
    "\treturn recur_repeat(x)(x,x)\n",
    "\n",
    "print(f\"{A(1)=}\")\n",
    "print(f\"{A(2)=}\")\n",
    "print(f\"{A(3)=}\")"
   ]
  },
  {
   "cell_type": "markdown",
   "metadata": {},
   "source": [
    "But again, I can't even compute 3 tetrated with 3, so basically it doesn't matter. Probably symbolic programs would do much better here "
   ]
  }
 ],
 "metadata": {
  "kernelspec": {
   "display_name": "Python 3",
   "language": "python",
   "name": "python3"
  },
  "language_info": {
   "codemirror_mode": {
    "name": "ipython",
    "version": 3
   },
   "file_extension": ".py",
   "mimetype": "text/x-python",
   "name": "python",
   "nbconvert_exporter": "python",
   "pygments_lexer": "ipython3",
   "version": "3.10.14"
  }
 },
 "nbformat": 4,
 "nbformat_minor": 2
}
